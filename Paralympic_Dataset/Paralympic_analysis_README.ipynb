{
 "cells": [
  {
   "cell_type": "markdown",
   "metadata": {},
   "source": [
    "Outline for paralympics dataset analysis"
   ]
  },
  {
   "cell_type": "markdown",
   "metadata": {},
   "source": [
    "Assessement of Olympic performance and results between 1960 and 2018"
   ]
  },
  {
   "cell_type": "markdown",
   "metadata": {},
   "source": [
    "General overview"
   ]
  },
  {
   "cell_type": "markdown",
   "metadata": {},
   "source": [
    "This task focuses on the assessment of Olympic performance and trends between 1960 and 2018 by analyzing medals, athletes, host countries, and sport-specific performance. it also aims to explore the geographic distribution of the Olympic Games, including host countries and continents as well as participation levels by NPCs (National Paralympic Committees) and athletes across different seasons (Summer/Winter) and sports.\n",
    "\n",
    "As a way to achieve and effective EDA the following will be analyzed:"
   ]
  },
  {
   "cell_type": "markdown",
   "metadata": {},
   "source": [
    "Participation Trends:\n",
    "\n",
    "How has the total number of athletes changed over time from 1960 to 2018?\n",
    "\n",
    "What are the trends in the total number of events held each year? Are there any particular peaks or declines in event numbers?\n",
    "\n",
    "How has the number of countries (NPCs) participating in the Olympics evolved between 1960 and 2018?\n",
    "\n",
    "What is the breakdown of participation by sport across the years? Which sports have gained or lost popularity?\n",
    "\n",
    "Countries with heighest and least participations"
   ]
  },
  {
   "cell_type": "markdown",
   "metadata": {},
   "source": [
    "Host Countries and Locations:\n",
    "\n",
    "What is the total number of host countries during the time period? Which countries have hosted the most Olympic Games?\n",
    "\n",
    "What is the geographical distribution of host cities across continents? (e.g., visualizing games distribution across continents over time)\n",
    "\n",
    "How do latitude and longitude data for host cities correlate with other factors such as medals won by host countries?\n"
   ]
  },
  {
   "cell_type": "markdown",
   "metadata": {},
   "source": [
    "Performance Analysis:\n",
    "\n",
    "What is the overall top 5 ranking of countries (NPCs) based on total medals won? How does this ranking change if we look only at gold medals?\n",
    "\n",
    "Who are the top 5 athletes based on the number of medals won? How does this vary by sport and season (Summer vs. Winter)?\n",
    "\n",
    "Which sports have contributed the most medals over the years?\n",
    "\n",
    "How does the medal distribution (gold, silver, bronze) vary between Summer and Winter Games?\n",
    "\n",
    "What are the trends in the number of medals won by each continent over time?"
   ]
  },
  {
   "cell_type": "markdown",
   "metadata": {},
   "source": [
    "Performance by Event and Sport:\n",
    "\n",
    "What are the top-performing sports for each participating country (NPC)?\n",
    "\n",
    "What are the medal counts per event across different sports and games years? Are there sports or events that consistently lead to high medal counts?\n",
    "\n",
    "What is the distribution of medals between individual versus team sports?"
   ]
  },
  {
   "cell_type": "markdown",
   "metadata": {},
   "source": [
    "Athlete Participation and Demographics:\n",
    "\n",
    "What is the total number of athletes who have participated in the Olympics between 1960 and 2018? How has this number changed over time?\n",
    "\n",
    "What is the average number of athletes per event or per sport? Are there certain sports that have significantly more athletes?\n",
    "\n",
    "What are the top 5 NPCs in terms of athlete representation over the years?\n",
    "\n",
    "What are the trends in athlete participation by gender (if gender data is available)?"
   ]
  },
  {
   "cell_type": "markdown",
   "metadata": {},
   "source": [
    "Time-Based Analysis:\n",
    "\n",
    "How does the duration of the Games (from start date to end date) vary over time? Do Summer and Winter Games have different average durations?\n",
    "\n",
    "Are there patterns or cycles in terms of which continents host the Olympics over time? For instance, is there a pattern of alternation between Europe, Asia, and North America?"
   ]
  },
  {
   "cell_type": "markdown",
   "metadata": {},
   "source": [
    "Medal and Rank Disparity:\n",
    "\n",
    "What is the disparity in medal counts between the top 10 countries versus the rest of the world?\n",
    "\n",
    "How often do host countries perform better in terms of medals than in years when they are not hosting?\n",
    "\n",
    "Sports Evolution:\n",
    "\n",
    "How have new sports or events introduced over time impacted overall medal distribution?\n",
    "\n",
    "Are there any trends showing which sports generate more gold medals versus silver or bronze?\n",
    "\n",
    "Seasonal Differences:\n",
    "\n",
    "How do medal distributions differ between Summer and Winter Olympic Games? Are there certain NPCs that dominate one season but not the other?\n",
    "\n",
    "What are the athlete and event trends across Winter and Summer Games?\n",
    "\n",
    "Geographical Insights:\n",
    "\n",
    "What is the relationship between a country's geographical size or population and its medal count?\n",
    "\n",
    "How do latitude and longitude of NPCs correlate with performance (e.g., are there trends where certain latitudes are associated with higher medal counts in specific sports, like winter sports)?"
   ]
  },
  {
   "cell_type": "markdown",
   "metadata": {},
   "source": []
  },
  {
   "cell_type": "markdown",
   "metadata": {},
   "source": []
  },
  {
   "cell_type": "markdown",
   "metadata": {},
   "source": []
  },
  {
   "cell_type": "markdown",
   "metadata": {},
   "source": []
  },
  {
   "cell_type": "markdown",
   "metadata": {},
   "source": []
  },
  {
   "cell_type": "markdown",
   "metadata": {},
   "source": []
  },
  {
   "cell_type": "markdown",
   "metadata": {},
   "source": []
  }
 ],
 "metadata": {
  "language_info": {
   "name": "python"
  }
 },
 "nbformat": 4,
 "nbformat_minor": 2
}
