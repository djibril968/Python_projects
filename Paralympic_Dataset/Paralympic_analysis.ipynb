{
 "cells": [
  {
   "cell_type": "code",
   "execution_count": 1,
   "metadata": {},
   "outputs": [],
   "source": [
    "import numpy as np\n",
    "import pandas as pd\n",
    "import seaborn as sns"
   ]
  },
  {
   "cell_type": "code",
   "execution_count": 9,
   "metadata": {},
   "outputs": [],
   "source": [
    "#Now we import our datasets\n",
    "\n",
    "para_athlete = pd.read_excel(\"./medal_athlete.xlsx\")\n",
    "\n",
    "para_standings = pd.read_excel(\"./medal_standings.xlsx\")"
   ]
  },
  {
   "cell_type": "code",
   "execution_count": 11,
   "metadata": {},
   "outputs": [
    {
     "name": "stdout",
     "output_type": "stream",
     "text": [
      "Index(['games_code', 'games_year', 'games_city', 'City_latitude',\n",
      "       'City_longitude', 'games_country', 'Country_latitude',\n",
      "       'Country_longitude', 'games_continent', 'games_start', 'games_end',\n",
      "       'games_season', 'sport', 'sport_code', 'event_venue', 'events', 'npcs',\n",
      "       'athletes', 'event', 'medal', 'npc', 'npc_new', 'npc_name',\n",
      "       'npc_name_latitude', 'npc_name_longitude', 'athlete_name',\n",
      "       'athlete_info_og'],\n",
      "      dtype='object')\n"
     ]
    }
   ],
   "source": [
    "print(para_athlete.columns)\n"
   ]
  },
  {
   "cell_type": "code",
   "execution_count": 13,
   "metadata": {},
   "outputs": [
    {
     "name": "stdout",
     "output_type": "stream",
     "text": [
      "Index(['games_code', 'games_year', 'games_city', 'games_country',\n",
      "       'games_continent', 'games_start', 'games_end', 'games_season', 'npc',\n",
      "       'npc_new', 'npc_name', 'rank_type', 'npc_rank', 'npc_gold',\n",
      "       'npc_silver', 'npc_bronze', 'sport_code', 'sport'],\n",
      "      dtype='object')\n"
     ]
    }
   ],
   "source": [
    "print(para_standings.columns)"
   ]
  }
 ],
 "metadata": {
  "kernelspec": {
   "display_name": "analytics_projects",
   "language": "python",
   "name": "python3"
  },
  "language_info": {
   "codemirror_mode": {
    "name": "ipython",
    "version": 3
   },
   "file_extension": ".py",
   "mimetype": "text/x-python",
   "name": "python",
   "nbconvert_exporter": "python",
   "pygments_lexer": "ipython3",
   "version": "3.12.5"
  }
 },
 "nbformat": 4,
 "nbformat_minor": 2
}
