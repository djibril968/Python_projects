{
 "cells": [
  {
   "cell_type": "markdown",
   "id": "0a2a3742-8dc6-442c-a7bb-e3ea18868cfb",
   "metadata": {},
   "source": [
    "# Working with data structures"
   ]
  },
  {
   "cell_type": "markdown",
   "id": "40505787-72ee-4a5c-892e-5d7a3bac7625",
   "metadata": {},
   "source": [
    "There are four basic data structures in python, List, Set, Tuple and Dict"
   ]
  },
  {
   "cell_type": "code",
   "execution_count": 3,
   "id": "124f9d97-1363-4926-a72c-6cc4fa056c41",
   "metadata": {},
   "outputs": [
    {
     "name": "stdout",
     "output_type": "stream",
     "text": [
      "('Goat', 'cow', 1, 'Ram')\n"
     ]
    }
   ],
   "source": [
    "My_tuple = ('Goat', 'cow', 1, 'Ram')\n",
    "\n",
    "print(My_tuple)"
   ]
  },
  {
   "cell_type": "code",
   "execution_count": 4,
   "id": "a2bfd0a4-d578-4e3a-96b3-ee24e39c98e1",
   "metadata": {},
   "outputs": [
    {
     "data": {
      "text/plain": [
       "1"
      ]
     },
     "execution_count": 4,
     "metadata": {},
     "output_type": "execute_result"
    }
   ],
   "source": [
    "My_tuple[2]"
   ]
  },
  {
   "cell_type": "code",
   "execution_count": 5,
   "id": "9341c522-fe15-4f07-b505-4d8ed0aeb52f",
   "metadata": {
    "scrolled": true
   },
   "outputs": [
    {
     "data": {
      "text/plain": [
       "('Goat', 'cow', 1, 'Ram')"
      ]
     },
     "execution_count": 5,
     "metadata": {},
     "output_type": "execute_result"
    }
   ],
   "source": [
    "My_tuple"
   ]
  },
  {
   "cell_type": "code",
   "execution_count": 6,
   "id": "65e5489e-5195-478a-9d7b-bab62406a113",
   "metadata": {},
   "outputs": [
    {
     "name": "stdout",
     "output_type": "stream",
     "text": [
      "['Goat', 'cow', 1, 'Ram']\n"
     ]
    }
   ],
   "source": [
    "My_list = ['Goat', 'cow', 1, 'Ram']\n",
    "\n",
    "print(My_list)"
   ]
  },
  {
   "cell_type": "code",
   "execution_count": 7,
   "id": "fc18a255-aaa3-4cf6-b6ee-b2a34f23cf91",
   "metadata": {},
   "outputs": [],
   "source": [
    "My_list[2] = 'Chicken'" 
   ]
  },
  {
   "cell_type": "code",
   "execution_count": 8,
   "id": "d593c5e8-abd6-4752-8768-754753c26d90",
   "metadata": {},
   "outputs": [
    {
     "data": {
      "text/plain": [
       "['Goat', 'cow', 'Chicken', 'Ram']"
      ]
     },
     "execution_count": 8,
     "metadata": {},
     "output_type": "execute_result"
    }
   ],
   "source": [
    "My_list"
   ]
  },
  {
   "cell_type": "markdown",
   "id": "6cfc2849-6532-42e7-a027-c82fe6adfdb4",
   "metadata": {},
   "source": [
    "Working with tuples"
   ]
  },
  {
   "cell_type": "code",
   "execution_count": 9,
   "id": "4c38d6cc-155c-4e64-8b0b-6cd96fddcab9",
   "metadata": {},
   "outputs": [
    {
     "name": "stdout",
     "output_type": "stream",
     "text": [
      "('jae', 'Johnny', 'Dannyboy', 'Hardly', 'chase')\n",
      "('jae', 'Johnny', 'Dannyboy', 'Hardly', 'chase')\n",
      "['jae', 'Johnny', 'Dannyboy', 'Hardly', 'chase']\n"
     ]
    }
   ],
   "source": [
    "##creating tuples\n",
    "\"\"\" tuples are characterized by parenthesis\n",
    "\"\"\"\n",
    "\n",
    "my_tuple = 'jae', 'Johnny', 'Dannyboy', 'Hardly', 'chase'\n",
    "my_tuple2 = ('jae', 'Johnny', 'Dannyboy', 'Hardly', 'chase')\n",
    "#creating a tuple from a list\n",
    "my_tuple3 = (['jae', 'Johnny', 'Dannyboy', 'Hardly', 'chase'])\n",
    "\n",
    "print(my_tuple)\n",
    "print(my_tuple2)\n",
    "print(my_tuple3)"
   ]
  },
  {
   "cell_type": "code",
   "execution_count": 10,
   "id": "dbbcc32f-1842-48bc-aee7-4b95b4f68410",
   "metadata": {
    "scrolled": true
   },
   "outputs": [
    {
     "name": "stdout",
     "output_type": "stream",
     "text": [
      "Johnny\n",
      "Dannyboy\n",
      "Hardly\n"
     ]
    }
   ],
   "source": [
    "#accessing the contents of a tuple\n",
    "a = my_tuple[1]\n",
    "b = my_tuple[2]\n",
    "c = my_tuple[3]\n",
    "\n",
    "print(a)\n",
    "print(b)\n",
    "print(c)"
   ]
  },
  {
   "cell_type": "code",
   "execution_count": 11,
   "id": "4540f8fb-4375-4174-9aea-df01144e9c83",
   "metadata": {},
   "outputs": [
    {
     "name": "stdout",
     "output_type": "stream",
     "text": [
      "('Hardly', 'chase')\n",
      "('Johnny',)\n",
      "('jae', 'Johnny', 'Dannyboy')\n"
     ]
    }
   ],
   "source": [
    "##slicing a tuple\n",
    "\n",
    "d = my_tuple[-2:]\n",
    "e = my_tuple[1::5]\n",
    "f = my_tuple[:-2]\n",
    "\n",
    "print(d)\n",
    "print(e)\n",
    "print(f)"
   ]
  },
  {
   "cell_type": "code",
   "execution_count": 12,
   "id": "438eee44-eca2-4a6e-a648-c8fba77fd394",
   "metadata": {},
   "outputs": [
    {
     "name": "stdout",
     "output_type": "stream",
     "text": [
      "('jae', 'Johnny', 'Dannyboy', 'Lion', 'Tiger')\n"
     ]
    }
   ],
   "source": [
    "f = f + ('Lion', 'Tiger')\n",
    "\n",
    "print(f)"
   ]
  },
  {
   "cell_type": "code",
   "execution_count": 13,
   "id": "8838e35b-bd52-435d-8a32-9cf180938160",
   "metadata": {},
   "outputs": [
    {
     "name": "stdout",
     "output_type": "stream",
     "text": [
      "('jae', 'Johnny', 'Dannyboy', 'Lion', 'Tiger', 'Lion', 'Tiger', 'Corn', 'Bag')\n"
     ]
    }
   ],
   "source": [
    "j = f + ('Lion', 'Tiger', 'Corn', 'Bag')\n",
    "\n",
    "print(j)"
   ]
  },
  {
   "cell_type": "code",
   "execution_count": 14,
   "id": "6de101d8-4f24-450a-bf24-69f1fc85acbf",
   "metadata": {},
   "outputs": [
    {
     "data": {
      "text/plain": [
       "9"
      ]
     },
     "execution_count": 14,
     "metadata": {},
     "output_type": "execute_result"
    }
   ],
   "source": [
    "#finding the length of a tuple\n",
    "len(j)"
   ]
  },
  {
   "cell_type": "code",
   "execution_count": 15,
   "id": "b4caa59f-4b31-4413-ac67-c91e38a64164",
   "metadata": {},
   "outputs": [
    {
     "data": {
      "text/plain": [
       "2"
      ]
     },
     "execution_count": 15,
     "metadata": {},
     "output_type": "execute_result"
    }
   ],
   "source": [
    "#counting the occurrence of an item in a tuple\n",
    "j.count('Lion')"
   ]
  },
  {
   "cell_type": "code",
   "execution_count": 16,
   "id": "c203ce60-56bc-4f28-b3f4-757dc8c4abbb",
   "metadata": {},
   "outputs": [
    {
     "data": {
      "text/plain": [
       "2"
      ]
     },
     "execution_count": 16,
     "metadata": {},
     "output_type": "execute_result"
    }
   ],
   "source": [
    "j.count('Tiger')"
   ]
  },
  {
   "cell_type": "code",
   "execution_count": 17,
   "id": "220155c1-eaaf-4502-8559-f490604503c4",
   "metadata": {},
   "outputs": [
    {
     "data": {
      "text/plain": [
       "('Johnny', 'Dannyboy')"
      ]
     },
     "execution_count": 17,
     "metadata": {},
     "output_type": "execute_result"
    }
   ],
   "source": [
    "my_tuple[1:3]"
   ]
  },
  {
   "cell_type": "code",
   "execution_count": 18,
   "id": "74f84bcf-35e3-4059-933c-cd436ae19cba",
   "metadata": {},
   "outputs": [],
   "source": [
    "My_list.append('Joy')"
   ]
  },
  {
   "cell_type": "code",
   "execution_count": 19,
   "id": "93daac7f-e9be-46f5-ae05-332e8fc2d4bf",
   "metadata": {},
   "outputs": [],
   "source": [
    "My_list.append('Joy')"
   ]
  },
  {
   "cell_type": "code",
   "execution_count": 20,
   "id": "c04ec9e5-6ee0-4cf8-b0d6-9cf11db09b1a",
   "metadata": {},
   "outputs": [
    {
     "data": {
      "text/plain": [
       "['Goat', 'cow', 'Chicken', 'Ram', 'Joy', 'Joy']"
      ]
     },
     "execution_count": 20,
     "metadata": {},
     "output_type": "execute_result"
    }
   ],
   "source": [
    "My_list"
   ]
  },
  {
   "cell_type": "code",
   "execution_count": 21,
   "id": "e0ea4093-a3f1-431f-ad09-154fcde898db",
   "metadata": {},
   "outputs": [
    {
     "name": "stdout",
     "output_type": "stream",
     "text": [
      "('peach', 'apricot', 'plum')\n",
      "('lemon', 'orange', 'grapefruit')\n"
     ]
    }
   ],
   "source": [
    "fruit_summer = ('peach', 'apricot', 'plum')\n",
    "fruit_winter = ('lemon', 'orange', 'grapefruit')\n",
    "\n",
    "print(fruit_summer)\n",
    "print(fruit_winter)"
   ]
  },
  {
   "cell_type": "code",
   "execution_count": 22,
   "id": "40b09da3-ebef-4387-a1e8-caf4f206d899",
   "metadata": {},
   "outputs": [
    {
     "name": "stdout",
     "output_type": "stream",
     "text": [
      "('peach', 'apricot', 'plum', 'lemon', 'orange', 'grapefruit')\n"
     ]
    }
   ],
   "source": [
    "all_fruit = fruit_summer + fruit_winter\n",
    "\n",
    "print(all_fruit)"
   ]
  },
  {
   "cell_type": "code",
   "execution_count": 23,
   "id": "ba444059-6539-4a49-afdd-7637d20e72b2",
   "metadata": {},
   "outputs": [
    {
     "data": {
      "text/plain": [
       "1"
      ]
     },
     "execution_count": 23,
     "metadata": {},
     "output_type": "execute_result"
    }
   ],
   "source": [
    "all_fruit.count('peach')"
   ]
  },
  {
   "cell_type": "code",
   "execution_count": 25,
   "id": "db526cdd-1c6b-4ad4-afe5-8b1d0dcb17d1",
   "metadata": {},
   "outputs": [
    {
     "name": "stdout",
     "output_type": "stream",
     "text": [
      "color, yellow\n",
      "age, 5\n",
      "fruit, lemon\n"
     ]
    }
   ],
   "source": [
    "# assigning contents of a tuple to individual variables aka unpacking\n",
    "combined_info = ('yellow', 5, 'lemon')\n",
    "\n",
    "color, age, fruit = combined_info\n",
    "\n",
    "print(f'color, {color}')\n",
    "print(f'age, {age}')\n",
    "print(f'fruit, {fruit}')"
   ]
  },
  {
   "cell_type": "code",
   "execution_count": 27,
   "id": "1a79ecc3-0615-4675-b37f-2b1c7e8a6c65",
   "metadata": {},
   "outputs": [
    {
     "name": "stdout",
     "output_type": "stream",
     "text": [
      "color\n",
      "yellow\n"
     ]
    }
   ],
   "source": [
    "#here i test the key and value pair\n",
    "print(f'color')\n",
    "print(f'{color}')"
   ]
  },
  {
   "cell_type": "code",
   "execution_count": 28,
   "id": "0679c18c-311f-4c43-b88a-044418a88baa",
   "metadata": {},
   "outputs": [
    {
     "name": "stdout",
     "output_type": "stream",
     "text": [
      "color\n",
      "age\n",
      "fruit\n"
     ]
    }
   ],
   "source": [
    "#if i am to print the keys \n",
    "\n",
    "print(f'color')\n",
    "print(f'age')\n",
    "print(f'fruit')"
   ]
  },
  {
   "cell_type": "code",
   "execution_count": 29,
   "id": "c24b1768-a39e-458c-9a70-46ade5ba4087",
   "metadata": {},
   "outputs": [
    {
     "name": "stdout",
     "output_type": "stream",
     "text": [
      "yellow\n",
      "5\n",
      "lemon\n"
     ]
    }
   ],
   "source": [
    "#printing the values\n",
    "\n",
    "print(f'{color}')\n",
    "print(f'{age}')\n",
    "print(f'{fruit}')"
   ]
  },
  {
   "cell_type": "code",
   "execution_count": 32,
   "id": "1b131439-f4b7-4ce9-a570-40dfef40d6b5",
   "metadata": {},
   "outputs": [
    {
     "data": {
      "text/plain": [
       "('james', 'Jane', ('Fola', 'Rimmi'), 'sarah')"
      ]
     },
     "execution_count": 32,
     "metadata": {},
     "output_type": "execute_result"
    }
   ],
   "source": [
    "#creating a nested tuple\n",
    "\n",
    "myy = ('james', 'Jane',('Fola', 'Rimmi'), 'sarah')\n",
    "myy"
   ]
  },
  {
   "cell_type": "code",
   "execution_count": 31,
   "id": "cbc24b25-e730-44c3-87e1-9f1259e89ec9",
   "metadata": {},
   "outputs": [
    {
     "data": {
      "text/plain": [
       "('Fola', 'Rimmi')"
      ]
     },
     "execution_count": 31,
     "metadata": {},
     "output_type": "execute_result"
    }
   ],
   "source": [
    "myy[2]"
   ]
  }
 ],
 "metadata": {
  "kernelspec": {
   "display_name": "Python 3 (ipykernel)",
   "language": "python",
   "name": "python3"
  },
  "language_info": {
   "codemirror_mode": {
    "name": "ipython",
    "version": 3
   },
   "file_extension": ".py",
   "mimetype": "text/x-python",
   "name": "python",
   "nbconvert_exporter": "python",
   "pygments_lexer": "ipython3",
   "version": "3.11.7"
  }
 },
 "nbformat": 4,
 "nbformat_minor": 5
}
