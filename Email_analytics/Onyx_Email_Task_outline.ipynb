{
 "cells": [
  {
   "cell_type": "code",
   "execution_count": null,
   "metadata": {},
   "outputs": [],
   "source": []
  },
  {
   "cell_type": "markdown",
   "metadata": {},
   "source": [
    "Task: Onyx Data challenge july 2024\n",
    "\n",
    "\n",
    "Task Title: Email Analysis\n",
    "\n",
    "\n",
    "Objective: To assess communication and engagement patterns among employees by analyzing internal email communications across different departments and roles\n",
    "\n",
    "\n",
    "Communication Volume and Patterns:\n",
    "How does the volume of emails sent vary by month, day, and hour?\n",
    "Are there peak times and days when email communication is particularly high?\n",
    "Which departments and cadres sent the most emails?\n",
    "\n",
    "\n",
    "Trend analysis\n",
    "\n",
    "Engagement and Responsiveness:\n",
    "How does the sentiment of emails vary between different departments or cadres?\n",
    "Is there a correlation between the time an email is sent (within work hours vs. outside work hours) and the message status?\n",
    "\n",
    "\n",
    "Device Usage:\n",
    "What proportion of emails are sent from different types of devices (e.g., desktop vs. mobile)?\n",
    "Is there a difference in the sentiment or response time of emails based on the device used?\n",
    "\n",
    "Topic Analysis:\n",
    "What are the most common topics discussed in emails?\n",
    "Are there certain topics that are more likely to be discussed outside of work hours or on non-work days?\n",
    "\n",
    "Departmental and Cadre Interactions:\n",
    "How frequently do different departments or cadres interact with each other via email?\n",
    "Are there certain departments or cadres that are central hubs of communication within the organization?\n",
    "\n",
    "Sentiment and Status:\n",
    "How does the sentiment of emails correlate with their status (e.g., read, unread, replied)?\n",
    "Are there patterns in the sentiment of emails over time?\n",
    "\n",
    "Overall Engagement Metrics:\n",
    "What is the overall sentiment trend over the given period?\n",
    "\n",
    "\n"
   ]
  }
 ],
 "metadata": {
  "kernelspec": {
   "display_name": "analytics_projects",
   "language": "python",
   "name": "python3"
  },
  "language_info": {
   "name": "python",
   "version": "3.12.5"
  }
 },
 "nbformat": 4,
 "nbformat_minor": 2
}
