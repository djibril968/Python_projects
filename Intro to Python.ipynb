{
 "cells": [
  {
   "cell_type": "markdown",
   "id": "57fa6821-519c-41b8-b733-de02b23f9a95",
   "metadata": {},
   "source": [
    "# Python intro: Assigning variables\n",
    "Assigning Single variables"
   ]
  },
  {
   "cell_type": "code",
   "execution_count": 3,
   "id": "af5223a7-11e9-4a4a-b792-cf00f000973a",
   "metadata": {},
   "outputs": [
    {
     "name": "stdout",
     "output_type": "stream",
     "text": [
      "5\n"
     ]
    },
    {
     "data": {
      "text/plain": [
       "int"
      ]
     },
     "execution_count": 3,
     "metadata": {},
     "output_type": "execute_result"
    }
   ],
   "source": [
    "x = 5\n",
    "\n",
    "print(x)\n",
    "type(x)\n"
   ]
  },
  {
   "cell_type": "code",
   "execution_count": 6,
   "id": "0a38092c-851c-473d-bd68-f485bb0602af",
   "metadata": {},
   "outputs": [
    {
     "data": {
      "text/plain": [
       "int"
      ]
     },
     "execution_count": 6,
     "metadata": {},
     "output_type": "execute_result"
    }
   ],
   "source": [
    "x = 6\n",
    "type(x)"
   ]
  },
  {
   "cell_type": "code",
   "execution_count": 2,
   "id": "efcb1cbc-6f0f-48e3-8b51-3f5773168af9",
   "metadata": {},
   "outputs": [
    {
     "name": "stdout",
     "output_type": "stream",
     "text": [
      "50\n"
     ]
    }
   ],
   "source": [
    "x = 5\n",
    "y = 10\n",
    "\n",
    "print(x*y)"
   ]
  },
  {
   "cell_type": "code",
   "execution_count": 3,
   "id": "b7f8fb6e-0ad1-4580-9c9a-d39f496c1827",
   "metadata": {},
   "outputs": [
    {
     "name": "stdout",
     "output_type": "stream",
     "text": [
      "15\n"
     ]
    }
   ],
   "source": [
    "z = x + y\n",
    "\n",
    "print(z)"
   ]
  },
  {
   "cell_type": "code",
   "execution_count": 4,
   "id": "e455300e-7907-4055-bb6e-edb5c069aaa0",
   "metadata": {},
   "outputs": [
    {
     "name": "stdout",
     "output_type": "stream",
     "text": [
      "225\n"
     ]
    }
   ],
   "source": [
    "b = z**2\n",
    "\n",
    "print(b)"
   ]
  },
  {
   "cell_type": "markdown",
   "id": "e0d82748-b564-4898-9ee2-8a942f1e51b8",
   "metadata": {},
   "source": [
    "Assigning multiple variables"
   ]
  },
  {
   "cell_type": "code",
   "execution_count": 5,
   "id": "bcae01a1-8063-484a-a3c2-868f36c557f5",
   "metadata": {},
   "outputs": [
    {
     "name": "stdout",
     "output_type": "stream",
     "text": [
      "12\n",
      "13\n",
      "14\n"
     ]
    }
   ],
   "source": [
    "a, b, c, = 12, 13, 14\n",
    "\n",
    "print(a)\n",
    "print(b)\n",
    "print(c)"
   ]
  },
  {
   "cell_type": "code",
   "execution_count": 6,
   "id": "6ce184c6-a5e0-4353-8acb-ad0158e22076",
   "metadata": {},
   "outputs": [
    {
     "name": "stdout",
     "output_type": "stream",
     "text": [
      "39\n"
     ]
    }
   ],
   "source": [
    "print(a+b+c)"
   ]
  },
  {
   "cell_type": "code",
   "execution_count": 8,
   "id": "87236326-4393-4649-a11e-1ce04db069fe",
   "metadata": {
    "scrolled": true
   },
   "outputs": [
    {
     "name": "stdout",
     "output_type": "stream",
     "text": [
      "144.92857142857142\n"
     ]
    }
   ],
   "source": [
    "x = (a**2 + b /c)\n",
    "print(x)"
   ]
  },
  {
   "cell_type": "code",
   "execution_count": 10,
   "id": "8de80bf0-8a3b-4a47-98c2-a4a53b5936ac",
   "metadata": {},
   "outputs": [
    {
     "name": "stdout",
     "output_type": "stream",
     "text": [
      "145\n"
     ]
    }
   ],
   "source": [
    "j = round(x)\n",
    "print(j)"
   ]
  },
  {
   "cell_type": "markdown",
   "id": "96db26f1-d18e-43be-8c9a-abd9f928ac5d",
   "metadata": {},
   "source": [
    "assign a variable to a previously defined variable."
   ]
  },
  {
   "cell_type": "code",
   "execution_count": 11,
   "id": "3781327e-0a55-4a28-bfdf-1cb357aa3443",
   "metadata": {},
   "outputs": [
    {
     "name": "stdout",
     "output_type": "stream",
     "text": [
      "9\n"
     ]
    }
   ],
   "source": [
    "x = 9\n",
    "b = x\n",
    "\n",
    "print(b)"
   ]
  },
  {
   "cell_type": "code",
   "execution_count": 12,
   "id": "a3dd3698-bfb6-4f67-b97c-0f44a6604ed7",
   "metadata": {},
   "outputs": [
    {
     "name": "stdout",
     "output_type": "stream",
     "text": [
      "81\n"
     ]
    }
   ],
   "source": [
    "print(b**2)"
   ]
  },
  {
   "cell_type": "markdown",
   "id": "70f6aefc-2e50-4f99-a7fa-b16dfdce8f98",
   "metadata": {},
   "source": [
    "reassigning variables"
   ]
  },
  {
   "cell_type": "code",
   "execution_count": 14,
   "id": "4ee3e6ce-86b6-4af1-8cf5-a3435850b7b4",
   "metadata": {},
   "outputs": [
    {
     "name": "stdout",
     "output_type": "stream",
     "text": [
      "16\n"
     ]
    }
   ],
   "source": [
    "x = 5\n",
    "\n",
    "## reassigning the  value of x\n",
    "x= 16\n",
    "\n",
    "print(x)"
   ]
  },
  {
   "cell_type": "markdown",
   "id": "bef79f00-7056-4020-87ac-e3bbbc64b179",
   "metadata": {},
   "source": [
    "the id() function, this refers to memory address which can\n",
    "defined a unique identifier or location on a computer where data is stored.\n",
    "this means whenever a variable is called, it is retrieved from the location where it is \n",
    "stored on the computer memory"
   ]
  },
  {
   "cell_type": "code",
   "execution_count": 19,
   "id": "235cf092-ff9f-4744-9d0f-2ca40f728f5a",
   "metadata": {},
   "outputs": [
    {
     "name": "stdout",
     "output_type": "stream",
     "text": [
      "the memory address of x is 140733332178152\n",
      "the memory address of x is 140733332178312\n"
     ]
    }
   ],
   "source": [
    "x = 15\n",
    "y = 20\n",
    "\n",
    "print('the memory address of x is',id(x))\n",
    "print('the memory address of x is',id(y))"
   ]
  },
  {
   "cell_type": "code",
   "execution_count": 21,
   "id": "7f40da7e-93b4-4fb2-ab6f-a889ffec1db5",
   "metadata": {},
   "outputs": [
    {
     "name": "stdout",
     "output_type": "stream",
     "text": [
      "7\n"
     ]
    }
   ],
   "source": [
    "myvar = 7\n",
    "\n",
    "print(myvar)"
   ]
  },
  {
   "cell_type": "code",
   "execution_count": 22,
   "id": "fad1a6ad-2ad6-44e1-a268-297619a810cd",
   "metadata": {},
   "outputs": [
    {
     "name": "stdout",
     "output_type": "stream",
     "text": [
      "35\n"
     ]
    }
   ],
   "source": [
    "t = 3 +4j\n",
    "u = 5 + 7j\n",
    "\n",
    "print(x+y)"
   ]
  },
  {
   "cell_type": "markdown",
   "id": "d35df1c4-3944-4788-9cf6-a2748ea00488",
   "metadata": {},
   "source": [
    "working with data types"
   ]
  },
  {
   "cell_type": "markdown",
   "id": "9392fb43-473e-46f3-83e8-453ea07a9130",
   "metadata": {},
   "source": [
    "#strings are sequence of characters"
   ]
  },
  {
   "cell_type": "code",
   "execution_count": 27,
   "id": "23bbae64-c22c-45b5-be0a-9699e98e077b",
   "metadata": {},
   "outputs": [
    {
     "name": "stdout",
     "output_type": "stream",
     "text": [
      "Hello\n",
      "Hello world!\n"
     ]
    }
   ],
   "source": [
    "string_1 = 'Hello'\n",
    "string_2 = string_1 + ' world!'\n",
    "\n",
    "print(string_1)\n",
    "print(string_2)"
   ]
  },
  {
   "cell_type": "code",
   "execution_count": 28,
   "id": "742e262b-b2a8-4025-b8ca-a4c7cc5bd5f3",
   "metadata": {},
   "outputs": [
    {
     "data": {
      "text/plain": [
       "False"
      ]
     },
     "execution_count": 28,
     "metadata": {},
     "output_type": "execute_result"
    }
   ],
   "source": [
    "'apples' == 'oranges'"
   ]
  },
  {
   "cell_type": "code",
   "execution_count": 29,
   "id": "b00ffa1b-588f-40d9-83a6-0220c7e2dd50",
   "metadata": {},
   "outputs": [
    {
     "data": {
      "text/plain": [
       "True"
      ]
     },
     "execution_count": 29,
     "metadata": {},
     "output_type": "execute_result"
    }
   ],
   "source": [
    "'apples' != 'oranges'"
   ]
  },
  {
   "cell_type": "code",
   "execution_count": 30,
   "id": "586f44ab-4853-4c0c-b061-858c06a01b60",
   "metadata": {},
   "outputs": [
    {
     "data": {
      "text/plain": [
       "True"
      ]
     },
     "execution_count": 30,
     "metadata": {},
     "output_type": "execute_result"
    }
   ],
   "source": [
    "True and True"
   ]
  },
  {
   "cell_type": "code",
   "execution_count": 31,
   "id": "9f422b7e-87a6-41ee-8455-145bbe099d5f",
   "metadata": {},
   "outputs": [
    {
     "data": {
      "text/plain": [
       "False"
      ]
     },
     "execution_count": 31,
     "metadata": {},
     "output_type": "execute_result"
    }
   ],
   "source": [
    "True and False"
   ]
  },
  {
   "cell_type": "code",
   "execution_count": 32,
   "id": "6cce3a72-1a8a-49b2-b774-adbd5b0e37b8",
   "metadata": {},
   "outputs": [
    {
     "data": {
      "text/plain": [
       "True"
      ]
     },
     "execution_count": 32,
     "metadata": {},
     "output_type": "execute_result"
    }
   ],
   "source": [
    "True or False"
   ]
  },
  {
   "cell_type": "markdown",
   "id": "6236e835-7efb-4c15-b60a-9af61f066398",
   "metadata": {},
   "source": [
    "# verifying data type"
   ]
  },
  {
   "cell_type": "markdown",
   "id": "f77f49a9-37a0-4b6c-982c-f7cc24894dea",
   "metadata": {},
   "source": [
    "In python we use the type() to determing the type of variable"
   ]
  },
  {
   "cell_type": "code",
   "execution_count": 33,
   "id": "ed607bcf-d22f-4c47-8a1e-f34a3301c7e5",
   "metadata": {},
   "outputs": [
    {
     "name": "stdout",
     "output_type": "stream",
     "text": [
      "<class 'bool'>\n",
      "<class 'int'>\n",
      "<class 'str'>\n",
      "<class 'float'>\n"
     ]
    }
   ],
   "source": [
    "x = 42\n",
    "y = 'bird'\n",
    "z = 3.14\n",
    "w = 4 > 5\n",
    "\n",
    "print(type(w))\n",
    "print(type(x))\n",
    "print(type(y))\n",
    "print(type(z))"
   ]
  },
  {
   "cell_type": "code",
   "execution_count": 8,
   "id": "a9673b6d-de5f-4625-bb49-f44ed7f2972a",
   "metadata": {},
   "outputs": [
    {
     "name": "stdout",
     "output_type": "stream",
     "text": [
      "<class 'int'>\n",
      "<class 'float'>\n",
      "<class 'str'>\n"
     ]
    }
   ],
   "source": [
    "p = int(45)\n",
    "q = float('30')\n",
    "r = str(50)\n",
    "\n",
    "print(type(p))\n",
    "print(type(q))\n",
    "print(type(r))"
   ]
  },
  {
   "cell_type": "code",
   "execution_count": 9,
   "id": "8b8f5f64-ca43-44bc-878d-2d73f5b46761",
   "metadata": {},
   "outputs": [
    {
     "data": {
      "text/plain": [
       "30.0"
      ]
     },
     "execution_count": 9,
     "metadata": {},
     "output_type": "execute_result"
    }
   ],
   "source": [
    "q"
   ]
  },
  {
   "cell_type": "code",
   "execution_count": 10,
   "id": "901c0a62-ebde-4e01-94d1-c4625e2a6ca6",
   "metadata": {},
   "outputs": [
    {
     "data": {
      "text/plain": [
       "'50'"
      ]
     },
     "execution_count": 10,
     "metadata": {},
     "output_type": "execute_result"
    }
   ],
   "source": [
    "r"
   ]
  },
  {
   "cell_type": "code",
   "execution_count": 11,
   "id": "0b9c6f6b-7147-48ba-996b-a3c4b57ee117",
   "metadata": {},
   "outputs": [
    {
     "data": {
      "text/plain": [
       "45"
      ]
     },
     "execution_count": 11,
     "metadata": {},
     "output_type": "execute_result"
    }
   ],
   "source": [
    "p"
   ]
  },
  {
   "cell_type": "code",
   "execution_count": 12,
   "id": "54017d3f-c9a5-482b-93ae-fec8077718e7",
   "metadata": {},
   "outputs": [
    {
     "data": {
      "text/plain": [
       "str"
      ]
     },
     "execution_count": 12,
     "metadata": {},
     "output_type": "execute_result"
    }
   ],
   "source": [
    "type(r)"
   ]
  },
  {
   "cell_type": "code",
   "execution_count": 13,
   "id": "fbb9a5ab-d48a-47e6-970f-a8f4029dd708",
   "metadata": {},
   "outputs": [
    {
     "data": {
      "text/plain": [
       "float"
      ]
     },
     "execution_count": 13,
     "metadata": {},
     "output_type": "execute_result"
    }
   ],
   "source": [
    "type(q)"
   ]
  },
  {
   "cell_type": "code",
   "execution_count": 14,
   "id": "f1271a97-e47e-4b26-9b3d-c51ce7af0f1f",
   "metadata": {},
   "outputs": [
    {
     "data": {
      "text/plain": [
       "str"
      ]
     },
     "execution_count": 14,
     "metadata": {},
     "output_type": "execute_result"
    }
   ],
   "source": [
    "type(r)"
   ]
  },
  {
   "cell_type": "markdown",
   "id": "f78825f1-448b-4af6-bf90-b95493d4b426",
   "metadata": {},
   "source": [
    "Implicit (Conversion)"
   ]
  },
  {
   "cell_type": "code",
   "execution_count": 15,
   "id": "a824507f-1628-442d-89ec-96df82300ec1",
   "metadata": {},
   "outputs": [
    {
     "data": {
      "text/plain": [
       "7.0"
      ]
     },
     "execution_count": 15,
     "metadata": {},
     "output_type": "execute_result"
    }
   ],
   "source": [
    "a = 5\n",
    "b = 2.0\n",
    "\n",
    "a+b"
   ]
  },
  {
   "cell_type": "markdown",
   "id": "052bcfbe-79a2-4560-be45-54701b57f6ec",
   "metadata": {},
   "source": [
    "Explicit (type Casting)"
   ]
  },
  {
   "cell_type": "code",
   "execution_count": 17,
   "id": "9c4be753-2b98-4d72-8f2c-51e26969fcbd",
   "metadata": {},
   "outputs": [
    {
     "data": {
      "text/plain": [
       "7"
      ]
     },
     "execution_count": 17,
     "metadata": {},
     "output_type": "execute_result"
    }
   ],
   "source": [
    "a = 5\n",
    "b = 2.0\n",
    "\n",
    "a + int(b)"
   ]
  },
  {
   "cell_type": "markdown",
   "id": "edbd8539-8fe1-4626-aa75-c68edd4862e6",
   "metadata": {},
   "source": [
    "NB: There is no direct casting from string to int, first we cast to float then to int"
   ]
  },
  {
   "cell_type": "code",
   "execution_count": 21,
   "id": "8cbc3db5-7182-4039-b513-8c4e198042e4",
   "metadata": {},
   "outputs": [
    {
     "name": "stdout",
     "output_type": "stream",
     "text": [
      "5.67 : <class 'float'>\n",
      "123 : <class 'str'>\n",
      "128.67 : <class 'float'>\n"
     ]
    }
   ],
   "source": [
    "var_a = 5.67\n",
    "var_b = \"123\"\n",
    "\n",
    "var_c = (var_a + int(float(var_b)))\n",
    "\n",
    "print(var_a,\":\", type(var_a))\n",
    "print(var_b,\":\", type(var_b))\n",
    "print(var_c,\":\", type(var_c))"
   ]
  },
  {
   "cell_type": "code",
   "execution_count": 23,
   "id": "4ccf7bfb-d2b5-4da2-b474-eb83f2f55bdd",
   "metadata": {},
   "outputs": [
    {
     "name": "stdout",
     "output_type": "stream",
     "text": [
      "42.42 : <class 'float'>\n",
      "42 : <class 'int'>\n",
      "42.42 : <class 'str'>\n"
     ]
    }
   ],
   "source": [
    "#Perform a casting on mixed_variable to obtain a float and an integer version. Print both results along with their data types.\n",
    "\n",
    "mixed_var = \"42.42\"\n",
    "\n",
    "fl_var = float(mixed_var)\n",
    "int_var = int(float(mixed_var))\n",
    "\n",
    "print(fl_var, \":\", type(fl_var))\n",
    "print(int_var, \":\", type(int_var))\n",
    "print(mixed_var, \":\", type(mixed_var))"
   ]
  },
  {
   "cell_type": "markdown",
   "id": "28df34e9-1bed-4025-899a-9cd38e0a8c35",
   "metadata": {},
   "source": [
    "identity operators"
   ]
  },
  {
   "cell_type": "code",
   "execution_count": 24,
   "id": "2aa337d4-a053-4b26-80c2-c824bc88e3df",
   "metadata": {},
   "outputs": [
    {
     "data": {
      "text/plain": [
       "False"
      ]
     },
     "execution_count": 24,
     "metadata": {},
     "output_type": "execute_result"
    }
   ],
   "source": [
    "a = 10\n",
    "b = 10.0\n",
    "\n",
    "a is b"
   ]
  },
  {
   "cell_type": "code",
   "execution_count": 25,
   "id": "38f7eafc-c0dd-4a5d-84d1-475d399c5774",
   "metadata": {},
   "outputs": [
    {
     "data": {
      "text/plain": [
       "True"
      ]
     },
     "execution_count": 25,
     "metadata": {},
     "output_type": "execute_result"
    }
   ],
   "source": [
    "a is not b"
   ]
  },
  {
   "cell_type": "code",
   "execution_count": 30,
   "id": "01410469-024d-4bf5-a216-b6ac3b73b07a",
   "metadata": {},
   "outputs": [],
   "source": [
    "c = 'Hello'\n",
    "d = 'Hello'"
   ]
  },
  {
   "cell_type": "code",
   "execution_count": 31,
   "id": "3d33eb0c-689f-4abe-9d1a-8f68938a2a22",
   "metadata": {},
   "outputs": [
    {
     "data": {
      "text/plain": [
       "True"
      ]
     },
     "execution_count": 31,
     "metadata": {},
     "output_type": "execute_result"
    }
   ],
   "source": [
    "c is d"
   ]
  },
  {
   "cell_type": "code",
   "execution_count": 32,
   "id": "a38906af-a2d9-4a48-a019-df0e95e93598",
   "metadata": {},
   "outputs": [
    {
     "data": {
      "text/plain": [
       "False"
      ]
     },
     "execution_count": 32,
     "metadata": {},
     "output_type": "execute_result"
    }
   ],
   "source": [
    "c is not d"
   ]
  },
  {
   "cell_type": "markdown",
   "id": "21264fe4-06ae-4270-b5e2-7520171d40e6",
   "metadata": {},
   "source": [
    "bitwise operators"
   ]
  },
  {
   "cell_type": "code",
   "execution_count": 36,
   "id": "87e98cb1-83d1-4416-9503-f904f145c268",
   "metadata": {},
   "outputs": [
    {
     "name": "stdout",
     "output_type": "stream",
     "text": [
      "0\n"
     ]
    }
   ],
   "source": [
    "a = 2\n",
    "b = 5\n",
    "\n",
    "print(a & b)"
   ]
  },
  {
   "cell_type": "code",
   "execution_count": 37,
   "id": "ae4b19d6-a561-4944-b255-54c1a0c268da",
   "metadata": {},
   "outputs": [
    {
     "name": "stdout",
     "output_type": "stream",
     "text": [
      "7\n"
     ]
    }
   ],
   "source": [
    "print(a | b)"
   ]
  },
  {
   "cell_type": "markdown",
   "id": "611489bd-2bec-4674-a8fd-4100274ee07f",
   "metadata": {},
   "source": [
    "Introduction to strings"
   ]
  },
  {
   "cell_type": "code",
   "execution_count": 48,
   "id": "02dbe5e7-6088-48c6-8789-a6688083a674",
   "metadata": {},
   "outputs": [
    {
     "name": "stdout",
     "output_type": "stream",
     "text": [
      "Hello Python!\n"
     ]
    }
   ],
   "source": [
    "d = 'Hello Python!'\n",
    "print(d)"
   ]
  },
  {
   "cell_type": "markdown",
   "id": "0ce95ac9-79d7-4063-b8b5-e034f61ec2a8",
   "metadata": {},
   "source": [
    "Indexing: this is the process of accessing parts of a string"
   ]
  },
  {
   "cell_type": "code",
   "execution_count": 41,
   "id": "089fe234-92ff-49e3-ba7c-730c78b0ec95",
   "metadata": {},
   "outputs": [
    {
     "data": {
      "text/plain": [
       "'e'"
      ]
     },
     "execution_count": 41,
     "metadata": {},
     "output_type": "execute_result"
    }
   ],
   "source": [
    "d[1]"
   ]
  },
  {
   "cell_type": "code",
   "execution_count": 43,
   "id": "778abd6a-0107-427c-acaa-39d6c3e5b2d4",
   "metadata": {},
   "outputs": [
    {
     "data": {
      "text/plain": [
       "'el'"
      ]
     },
     "execution_count": 43,
     "metadata": {},
     "output_type": "execute_result"
    }
   ],
   "source": [
    "d[1:3]"
   ]
  },
  {
   "cell_type": "code",
   "execution_count": 44,
   "id": "45afdca4-9579-4421-9931-6ca54280b16d",
   "metadata": {},
   "outputs": [
    {
     "data": {
      "text/plain": [
       "'ello'"
      ]
     },
     "execution_count": 44,
     "metadata": {},
     "output_type": "execute_result"
    }
   ],
   "source": [
    "d[1:]"
   ]
  },
  {
   "cell_type": "code",
   "execution_count": 50,
   "id": "6af6d8a7-83ce-4a42-9107-db808fd8ed07",
   "metadata": {},
   "outputs": [
    {
     "data": {
      "text/plain": [
       "'thon!'"
      ]
     },
     "execution_count": 50,
     "metadata": {},
     "output_type": "execute_result"
    }
   ],
   "source": [
    "d[-5:]"
   ]
  },
  {
   "cell_type": "code",
   "execution_count": 55,
   "id": "e4781a8a-1d1e-4dfb-982c-5591112230f8",
   "metadata": {},
   "outputs": [
    {
     "data": {
      "text/plain": [
       "'Hello Python!'"
      ]
     },
     "execution_count": 55,
     "metadata": {},
     "output_type": "execute_result"
    }
   ],
   "source": [
    "d[0:]"
   ]
  },
  {
   "cell_type": "code",
   "execution_count": 53,
   "id": "634063f3-cd1d-4bbd-99a0-0c7b1440025d",
   "metadata": {},
   "outputs": [
    {
     "data": {
      "text/plain": [
       "13"
      ]
     },
     "execution_count": 53,
     "metadata": {},
     "output_type": "execute_result"
    }
   ],
   "source": [
    "len(d)"
   ]
  },
  {
   "cell_type": "code",
   "execution_count": 59,
   "id": "979073f6-0388-449f-915f-8253397fa5cc",
   "metadata": {},
   "outputs": [
    {
     "data": {
      "text/plain": [
       "'Hello Python!'"
      ]
     },
     "execution_count": 59,
     "metadata": {},
     "output_type": "execute_result"
    }
   ],
   "source": [
    "d[-13:]"
   ]
  },
  {
   "cell_type": "code",
   "execution_count": 61,
   "id": "b1b31e47-5c14-4976-a7e0-c2d29eed2fef",
   "metadata": {},
   "outputs": [
    {
     "data": {
      "text/plain": [
       "'Hello Python!'"
      ]
     },
     "execution_count": 61,
     "metadata": {},
     "output_type": "execute_result"
    }
   ],
   "source": [
    "d[0:]"
   ]
  },
  {
   "cell_type": "code",
   "execution_count": 62,
   "id": "00ef1873-5463-4f18-952b-196399055490",
   "metadata": {},
   "outputs": [
    {
     "name": "stdout",
     "output_type": "stream",
     "text": [
      "Hello,\n",
      "World!\n"
     ]
    }
   ],
   "source": [
    "print(\"Hello,\\nWorld!\")"
   ]
  },
  {
   "cell_type": "code",
   "execution_count": 66,
   "id": "a3464e40-ca26-48e2-9ace-0da85ffac110",
   "metadata": {},
   "outputs": [
    {
     "name": "stdout",
     "output_type": "stream",
     "text": [
      "Moi! \n",
      "Mita Kuulu\n"
     ]
    }
   ],
   "source": [
    "print('Moi! \\nMita Kuulu')"
   ]
  },
  {
   "cell_type": "code",
   "execution_count": 67,
   "id": "dcc38ee9-2e6b-4c26-852f-38685bd3a4d3",
   "metadata": {},
   "outputs": [
    {
     "name": "stdout",
     "output_type": "stream",
     "text": [
      "He said, 'Hello!'\n"
     ]
    }
   ],
   "source": [
    "print('He said, \\'Hello!\\'')"
   ]
  },
  {
   "cell_type": "code",
   "execution_count": 68,
   "id": "2f584b19-2144-47e7-88ee-c56768d62e68",
   "metadata": {},
   "outputs": [
    {
     "name": "stdout",
     "output_type": "stream",
     "text": [
      "She exclaimed, \"Wow!\"\n"
     ]
    }
   ],
   "source": [
    "print(\"She exclaimed, \\\"Wow!\\\"\")"
   ]
  },
  {
   "cell_type": "code",
   "execution_count": 69,
   "id": "1b55cf17-7a82-492b-9a08-651c147b10d3",
   "metadata": {},
   "outputs": [
    {
     "name": "stdout",
     "output_type": "stream",
     "text": [
      "I was 'amazed!'\n"
     ]
    }
   ],
   "source": [
    "print('I was \\'amazed!\\'')"
   ]
  },
  {
   "cell_type": "code",
   "execution_count": 70,
   "id": "34e179fc-c8a0-400f-b614-9d675d5406e9",
   "metadata": {},
   "outputs": [
    {
     "name": "stdout",
     "output_type": "stream",
     "text": [
      "Octal representation: H\n"
     ]
    }
   ],
   "source": [
    "print(\"Octal representation: \\110\")"
   ]
  },
  {
   "cell_type": "markdown",
   "id": "50667644-43a4-4015-bcf5-41c81be18721",
   "metadata": {},
   "source": [
    "Exercise"
   ]
  },
  {
   "cell_type": "code",
   "execution_count": 72,
   "id": "8ead4cc4-f771-4b86-baaf-1da5b645c006",
   "metadata": {},
   "outputs": [],
   "source": [
    "challenge_string = \"PythonIsAwesome!\""
   ]
  },
  {
   "cell_type": "code",
   "execution_count": 74,
   "id": "cc269815-a74a-47d1-b359-319523eedb85",
   "metadata": {},
   "outputs": [
    {
     "data": {
      "text/plain": [
       "'t'"
      ]
     },
     "execution_count": 74,
     "metadata": {},
     "output_type": "execute_result"
    }
   ],
   "source": [
    "challenge_string[2]"
   ]
  },
  {
   "cell_type": "code",
   "execution_count": 77,
   "id": "2f0f7778-8f62-4f0e-a83d-5aaded1b1552",
   "metadata": {},
   "outputs": [
    {
     "data": {
      "text/plain": [
       "'!'"
      ]
     },
     "execution_count": 77,
     "metadata": {},
     "output_type": "execute_result"
    }
   ],
   "source": [
    "challenge_string[-1]"
   ]
  },
  {
   "cell_type": "code",
   "execution_count": 80,
   "id": "41194af2-1e35-455a-bf58-9523fcb560a9",
   "metadata": {},
   "outputs": [
    {
     "data": {
      "text/plain": [
       "'IsAwe'"
      ]
     },
     "execution_count": 80,
     "metadata": {},
     "output_type": "execute_result"
    }
   ],
   "source": [
    "challenge_string[6:11]"
   ]
  },
  {
   "cell_type": "markdown",
   "id": "71f4fa7f-bafc-45b4-9638-59b52af4bdfb",
   "metadata": {},
   "source": [
    "string concat exercise"
   ]
  },
  {
   "cell_type": "code",
   "execution_count": 81,
   "id": "4405cca9-18a3-4c1a-ba02-421a3417c503",
   "metadata": {},
   "outputs": [
    {
     "name": "stdout",
     "output_type": "stream",
     "text": [
      "Programming is fun!\n"
     ]
    }
   ],
   "source": [
    "string1 = \"Programming\"\n",
    "string2 = \" is fun!\"\n",
    "\n",
    "print(string1 + string2)"
   ]
  },
  {
   "cell_type": "code",
   "execution_count": 83,
   "id": "67a11e3d-a753-4ca4-9c83-deb781613489",
   "metadata": {},
   "outputs": [
    {
     "name": "stdout",
     "output_type": "stream",
     "text": [
      "My name is:   John Doe\n"
     ]
    }
   ],
   "source": [
    "Fname = 'John'\n",
    "Lname = 'Doe'\n",
    "\n",
    "Fullname = (Fname + ' '+ Lname)\n",
    "print('My name is:', ' ', Fullname)"
   ]
  },
  {
   "cell_type": "markdown",
   "id": "b829af04-6a70-4e79-a137-7b5cd597c142",
   "metadata": {},
   "source": [
    "string replication"
   ]
  },
  {
   "cell_type": "code",
   "execution_count": 84,
   "id": "526d12ad-8dfb-40d1-b269-e0807f9a98e3",
   "metadata": {},
   "outputs": [
    {
     "name": "stdout",
     "output_type": "stream",
     "text": [
      "JohnJohnJohn\n"
     ]
    }
   ],
   "source": [
    "Fname = 'John'\n",
    "\n",
    "name_rep = Fname * 3\n",
    "\n",
    "print(name_rep)"
   ]
  },
  {
   "cell_type": "markdown",
   "id": "0d4724be-35d2-4fd9-b2b7-265672c0846b",
   "metadata": {},
   "source": [
    "string slicing"
   ]
  },
  {
   "cell_type": "code",
   "execution_count": 88,
   "id": "02faccc1-250e-4041-bb50-ba1e78d7c25d",
   "metadata": {},
   "outputs": [
    {
     "name": "stdout",
     "output_type": "stream",
     "text": [
      "amazing\n"
     ]
    }
   ],
   "source": [
    "x = 'I am amazing'\n",
    "y = (x[-7:])\n",
    "print (y)"
   ]
  },
  {
   "cell_type": "code",
   "execution_count": 89,
   "id": "c0ba5f8c-d71f-42a1-a32d-d8fc93d17b2c",
   "metadata": {},
   "outputs": [
    {
     "name": "stdout",
     "output_type": "stream",
     "text": [
      "I am\n"
     ]
    }
   ],
   "source": [
    "z = (x[0:4]) \n",
    "print(z)"
   ]
  },
  {
   "cell_type": "code",
   "execution_count": 92,
   "id": "75fcf5ed-f7ae-41f3-9287-ba022e3b7c6d",
   "metadata": {},
   "outputs": [
    {
     "name": "stdout",
     "output_type": "stream",
     "text": [
      "I am amazing\n"
     ]
    }
   ],
   "source": [
    "f = (z + ' ' + y)\n",
    "print(f)"
   ]
  },
  {
   "cell_type": "code",
   "execution_count": 94,
   "id": "32226104-3829-4505-b298-46a85cfc76cd",
   "metadata": {},
   "outputs": [
    {
     "name": "stdout",
     "output_type": "stream",
     "text": [
      "I AM AMAZING\n"
     ]
    }
   ],
   "source": [
    "t = f.upper()\n",
    "print(t)"
   ]
  },
  {
   "cell_type": "code",
   "execution_count": 95,
   "id": "e8c69b91-0217-4d34-a40e-3d848b1311a0",
   "metadata": {},
   "outputs": [
    {
     "name": "stdout",
     "output_type": "stream",
     "text": [
      "i am amazing\n"
     ]
    }
   ],
   "source": [
    "r = t.lower()\n",
    "\n",
    "print(r)"
   ]
  },
  {
   "cell_type": "code",
   "execution_count": 97,
   "id": "5ec0b53f-53ce-428c-ae21-bfbc223a48bf",
   "metadata": {},
   "outputs": [
    {
     "name": "stdout",
     "output_type": "stream",
     "text": [
      "I am amazing\n"
     ]
    }
   ],
   "source": [
    "s = r.capitalize()\n",
    "print(s)"
   ]
  },
  {
   "cell_type": "code",
   "execution_count": 102,
   "id": "b9cca333-ba35-4445-9cff-9c892aa3c6df",
   "metadata": {},
   "outputs": [
    {
     "name": "stdout",
     "output_type": "stream",
     "text": [
      "JavaScript is a powerful programming language.\n"
     ]
    }
   ],
   "source": [
    "original_text = \"Python is a powerful programming language.\"\n",
    "modified_text = original_text.replace(\"Python\", \"JavaScript\")\n",
    "print(modified_text)"
   ]
  },
  {
   "cell_type": "code",
   "execution_count": 104,
   "id": "5bbe8dc2-7171-4050-a2e1-7e4b9978c9a9",
   "metadata": {},
   "outputs": [
    {
     "name": "stdout",
     "output_type": "stream",
     "text": [
      "SQL is a powerful programming language.\n"
     ]
    }
   ],
   "source": [
    "old_text = \"Python is a powerful programming language.\"\n",
    "new_text = old_text.replace(\"Python\", \"SQL\")\n",
    "print(new_text)"
   ]
  },
  {
   "cell_type": "code",
   "execution_count": 105,
   "id": "04dea5b6-f994-4066-a045-0e6f729243c9",
   "metadata": {},
   "outputs": [
    {
     "name": "stdout",
     "output_type": "stream",
     "text": [
      "SQL is a powerful analytic tool.\n"
     ]
    }
   ],
   "source": [
    "old_text = \"SQL is a powerful programming language.\"\n",
    "new_text = old_text.replace(\"programming language\", \"analytic tool\")\n",
    "print(new_text)"
   ]
  },
  {
   "cell_type": "code",
   "execution_count": null,
   "id": "f875299e-0eb6-4741-be5e-7e348d60d81a",
   "metadata": {},
   "outputs": [],
   "source": []
  }
 ],
 "metadata": {
  "kernelspec": {
   "display_name": "Python 3 (ipykernel)",
   "language": "python",
   "name": "python3"
  },
  "language_info": {
   "codemirror_mode": {
    "name": "ipython",
    "version": 3
   },
   "file_extension": ".py",
   "mimetype": "text/x-python",
   "name": "python",
   "nbconvert_exporter": "python",
   "pygments_lexer": "ipython3",
   "version": "3.11.7"
  }
 },
 "nbformat": 4,
 "nbformat_minor": 5
}
