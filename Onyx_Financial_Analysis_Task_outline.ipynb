{
 "cells": [
  {
   "cell_type": "markdown",
   "metadata": {},
   "source": [
    "Task outline"
   ]
  },
  {
   "cell_type": "markdown",
   "metadata": {},
   "source": [
    "General objective\n",
    "\n",
    "The objective of this task is to examine the revenue and expense patterns across different business lines over time. This analysis aims to identify key trends, and provide strategic insights that support data-driven decision-making for enhancing overall financial performance: To this end, we shall be loooking into the following:"
   ]
  },
  {
   "cell_type": "markdown",
   "metadata": {},
   "source": [
    "Financial Overview\n",
    "Expense Analysis\n",
    "Revenue Analysis\n",
    "Net profit analysis"
   ]
  }
 ],
 "metadata": {
  "language_info": {
   "name": "python"
  }
 },
 "nbformat": 4,
 "nbformat_minor": 2
}
